{
 "cells": [
  {
   "cell_type": "markdown",
   "id": "17c30d93-7bf2-43af-adac-9eb3ddfe0d26",
   "metadata": {},
   "source": [
    "**Data Science Tools and Ecosystem**"
   ]
  },
  {
   "cell_type": "markdown",
   "id": "6bd949f0-d7b6-4f58-84b6-095658d20795",
   "metadata": {},
   "source": [
    "In this notebook, Data Science Tools and Ecosystem are summarized."
   ]
  },
  {
   "cell_type": "markdown",
   "id": "7acd3851-d212-47f8-9b08-c182ea708a29",
   "metadata": {},
   "source": [
    "Some of the key takeaways from the course\n",
    "**Objectives**\n",
    " - Popular Languages\n",
    " - Common Used Libraries\n",
    " - Data Science Tools\n",
    " - Arithmetic Examples"
   ]
  },
  {
   "cell_type": "markdown",
   "id": "ddf5409f-f200-447a-9467-d20a334e486c",
   "metadata": {},
   "source": [
    "Some of the popular languages that Data Scientists use are:\n"
   ]
  },
  {
   "cell_type": "markdown",
   "id": "2a923a5d-8f3a-4a94-ad7a-a4ceade01d00",
   "metadata": {},
   "source": [
    "1. Python\n",
    "2. R\n",
    "3. Julia"
   ]
  },
  {
   "cell_type": "markdown",
   "id": "5ec0895e-7f0e-457e-8a49-bc2c7791a433",
   "metadata": {},
   "source": [
    "Some of the commonly used libraries used by Data Scientists include:\n",
    "1. Pandas\n",
    "2. NumPy\n",
    "3. Matplotlib\n"
   ]
  },
  {
   "cell_type": "markdown",
   "id": "22b0d092-0c3f-4dd5-b402-10a3971e4d9c",
   "metadata": {},
   "source": [
    "|  Data Science Tools  |\n",
    "|----------------------|\n",
    "|Apache|\n",
    "|Zepellin|\n",
    "|Spider|\n",
    "\n",
    "\n",
    "    "
   ]
  },
  {
   "cell_type": "markdown",
   "id": "ab3f796c-1d8a-421d-9ed2-df919ca54372",
   "metadata": {},
   "source": [
    "### Below are a few examples of evaluating arithmetic expressions in Python"
   ]
  },
  {
   "cell_type": "code",
   "execution_count": 21,
   "id": "9544870f-a4c4-4bb4-b688-d18f484a5cf5",
   "metadata": {},
   "outputs": [
    {
     "data": {
      "text/plain": [
       "17.0"
      ]
     },
     "execution_count": 21,
     "metadata": {},
     "output_type": "execute_result"
    }
   ],
   "source": [
    "\"\"\"This a simple arithmetic expression to mutiply then add integers\"\"\"\n",
    "(3*4)+5."
   ]
  },
  {
   "cell_type": "code",
   "execution_count": 23,
   "id": "56448286-c2a0-4a42-951f-47b8298c4e6b",
   "metadata": {},
   "outputs": [
    {
     "data": {
      "text/plain": [
       "3.3333333333333335"
      ]
     },
     "execution_count": 23,
     "metadata": {},
     "output_type": "execute_result"
    }
   ],
   "source": [
    "\"\"\"This will convert 200 minutes to hours by diving by 60.\"\"\"\n",
    "200/60"
   ]
  },
  {
   "cell_type": "markdown",
   "id": "f780d470-baf1-4934-8c9e-b03a5cb57654",
   "metadata": {},
   "source": [
    "## Andres M Pardo \n",
    "Author"
   ]
  }
 ],
 "metadata": {
  "kernelspec": {
   "display_name": "anaconda-panel-2023.05-py310",
   "language": "python",
   "name": "conda-env-anaconda-panel-2023.05-py310-py"
  },
  "language_info": {
   "codemirror_mode": {
    "name": "ipython",
    "version": 3
   },
   "file_extension": ".py",
   "mimetype": "text/x-python",
   "name": "python",
   "nbconvert_exporter": "python",
   "pygments_lexer": "ipython3",
   "version": "3.11.5"
  }
 },
 "nbformat": 4,
 "nbformat_minor": 5
}
